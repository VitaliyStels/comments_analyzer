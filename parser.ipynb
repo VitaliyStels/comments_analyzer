{
 "cells": [
  {
   "cell_type": "code",
   "execution_count": 7,
   "id": "2f495739-5c52-41d0-b6ee-164961102d06",
   "metadata": {
    "tags": []
   },
   "outputs": [
    {
     "data": {
      "text/plain": [
       "True"
      ]
     },
     "execution_count": 7,
     "metadata": {},
     "output_type": "execute_result"
    }
   ],
   "source": [
    "from dotenv import load_dotenv\n",
    "import requests\n",
    "import pandas as pd\n",
    "from telethon import TelegramClient, events, sync\n",
    "from telethon.tl.types import InputPeerChannel\n",
    "# from telethon.errors import SessionPasswordNeededError\n",
    "# from telethon.tl.functions.messages import (GetHistoryRequest)\n",
    "import os\n",
    "load_dotenv()"
   ]
  },
  {
   "cell_type": "code",
   "execution_count": 99,
   "id": "792e7cb6-b45e-4aea-9a51-13e2ac32110a",
   "metadata": {
    "tags": []
   },
   "outputs": [
    {
     "name": "stdout",
     "output_type": "stream",
     "text": [
      "Please enter your phone (or bot token):  380961583263\n",
      "Please enter the code you received:  66173\n"
     ]
    },
    {
     "name": "stdout",
     "output_type": "stream",
     "text": [
      "Signed in successfully as Developer\n"
     ]
    }
   ],
   "source": [
    "api_id = os.getenv('TELEGRAM_API_ID')\n",
    "api_hash = os.getenv('TELEGRAM_API_HASH')\n",
    "phone_number = os.getenv('TELEGRAM_PHONE_NUMBER')\n",
    "telegram_username = os.getenv('TELEGRAM_USERNAME')\n",
    "channel_username = '@zedigital'\n",
    "messages = []\n",
    "client = TelegramClient('my_session11', api_id, api_hash)\n",
    "\n",
    "async def get_all_messages(channel_username):\n",
    "    async for message in client.iter_messages(channel_username):\n",
    "        messages.append(message.message)\n",
    "        \n",
    "async def main():\n",
    "    await client.start()\n",
    "    await get_all_messages(channel_username)\n",
    "    return messages\n",
    "\n",
    "\n",
    "\n",
    "        \n",
    "await main()\n",
    "\n",
    "df = pd.DataFrame(messages)\n",
    "df.to_csv('parsed.csv', index=True)\n",
    "\n"
   ]
  }
 ],
 "metadata": {
  "kernelspec": {
   "display_name": "Python 3 (ipykernel)",
   "language": "python",
   "name": "python3"
  },
  "language_info": {
   "codemirror_mode": {
    "name": "ipython",
    "version": 3
   },
   "file_extension": ".py",
   "mimetype": "text/x-python",
   "name": "python",
   "nbconvert_exporter": "python",
   "pygments_lexer": "ipython3",
   "version": "3.10.0"
  }
 },
 "nbformat": 4,
 "nbformat_minor": 5
}
