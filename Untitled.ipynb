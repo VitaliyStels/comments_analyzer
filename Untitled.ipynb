{
 "cells": [
  {
   "cell_type": "code",
   "execution_count": 1,
   "id": "19acec2a-7f2c-49f0-9fb1-9a5c918eddf4",
   "metadata": {},
   "outputs": [],
   "source": [
    "import requests\n",
    "from bs4 import BeautifulSoup\n",
    "import pandas as pd"
   ]
  },
  {
   "cell_type": "markdown",
   "id": "58720d0b-3a67-425b-9080-5ce4d56300aa",
   "metadata": {},
   "source": [
    "## Parse comments from html file and save in csv"
   ]
  },
  {
   "cell_type": "code",
   "execution_count": 2,
   "id": "167614d7-2621-4111-a9b2-26cf043294dd",
   "metadata": {
    "tags": []
   },
   "outputs": [
    {
     "name": "stdout",
     "output_type": "stream",
     "text": [
      "                                             messages: \n",
      "0     FEDOROVchannelЄ прохання до батьків школярів т...\n",
      "1                                   Anna Baranova-13:01\n",
      "2                                roman komarynets-13:01\n",
      "3                          YYurijСаме те, що треба13:01\n",
      "4                               Oksana Lavrenchuk-13:01\n",
      "...                                                 ...\n",
      "1064  IKIrin KamПочитав много комментарий, с опытом ...\n",
      "1065  АНАлла НікіфоренкоЖитомирський ліцей 36 корист...\n",
      "1066  я .Житомирський ліцей №23, використовують ел. ...\n",
      "1067  ТWТетяна Woina- через відсутність якісного  ін...\n",
      "1068                                       거시기 빠는-14:49\n",
      "\n",
      "[1069 rows x 1 columns]\n"
     ]
    }
   ],
   "source": [
    "\n",
    "messages = []\n",
    "data = open('data.html')\n",
    "soup = BeautifulSoup(data)\n",
    "\n",
    "for i in soup.find_all(class_='Message'):\n",
    "    messages.append(i.get_text())\n",
    "    \n",
    "df = pd.DataFrame({'messages: ' : messages})\n",
    "# df.to_csv('messages.csv', index=False)\n",
    "print(df)"
   ]
  }
 ],
 "metadata": {
  "kernelspec": {
   "display_name": "Python 3 (ipykernel)",
   "language": "python",
   "name": "python3"
  },
  "language_info": {
   "codemirror_mode": {
    "name": "ipython",
    "version": 3
   },
   "file_extension": ".py",
   "mimetype": "text/x-python",
   "name": "python",
   "nbconvert_exporter": "python",
   "pygments_lexer": "ipython3",
   "version": "3.11.2"
  }
 },
 "nbformat": 4,
 "nbformat_minor": 5
}
