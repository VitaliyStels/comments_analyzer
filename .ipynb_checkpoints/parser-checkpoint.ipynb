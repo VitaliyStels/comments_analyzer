{
 "cells": [
  {
   "cell_type": "code",
   "execution_count": 80,
   "id": "2f495739-5c52-41d0-b6ee-164961102d06",
   "metadata": {
    "tags": []
   },
   "outputs": [
    {
     "data": {
      "text/plain": [
       "True"
      ]
     },
     "execution_count": 80,
     "metadata": {},
     "output_type": "execute_result"
    }
   ],
   "source": [
    "from dotenv import load_dotenv\n",
    "import requests\n",
    "import pandas as pd\n",
    "from telethon import TelegramClient, events, sync\n",
    "# from telethon.errors import SessionPasswordNeededError\n",
    "# from telethon.tl.functions.messages import (GetHistoryRequest)\n",
    "import os\n",
    "load_dotenv()"
   ]
  },
  {
   "cell_type": "code",
   "execution_count": 97,
   "id": "f7e59460-f44f-489c-9b25-f8af9b185287",
   "metadata": {
    "tags": []
   },
   "outputs": [
    {
     "ename": "TypeError",
     "evalue": "'async for' requires an object with __aiter__ method, got Message",
     "output_type": "error",
     "traceback": [
      "\u001b[0;31m---------------------------------------------------------------------------\u001b[0m",
      "\u001b[0;31mTypeError\u001b[0m                                 Traceback (most recent call last)",
      "Cell \u001b[0;32mIn[97], line 22\u001b[0m\n\u001b[1;32m     17\u001b[0m     \u001b[38;5;28;01mawait\u001b[39;00m client\u001b[38;5;241m.\u001b[39mdisconnect()\n\u001b[1;32m     21\u001b[0m \u001b[38;5;28;01masync\u001b[39;00m \u001b[38;5;28;01mwith\u001b[39;00m client:\n\u001b[0;32m---> 22\u001b[0m     client\u001b[38;5;241m.\u001b[39mloop\u001b[38;5;241m.\u001b[39mrun_until_complete(\u001b[38;5;28;01mawait\u001b[39;00m main(channel_username))\n\u001b[1;32m     24\u001b[0m df \u001b[38;5;241m=\u001b[39m pd\u001b[38;5;241m.\u001b[39mDataFrame(messages)\n\u001b[1;32m     25\u001b[0m df\u001b[38;5;241m.\u001b[39mto_csv(\u001b[38;5;124m'\u001b[39m\u001b[38;5;124mparsed_messages\u001b[39m\u001b[38;5;124m'\u001b[39m, index\u001b[38;5;241m=\u001b[39m\u001b[38;5;28;01mTrue\u001b[39;00m)\n",
      "Cell \u001b[0;32mIn[97], line 14\u001b[0m, in \u001b[0;36mmain\u001b[0;34m(channel_username)\u001b[0m\n\u001b[1;32m     12\u001b[0m as_messages \u001b[38;5;241m=\u001b[39m \u001b[38;5;28;01mawait\u001b[39;00m client\u001b[38;5;241m.\u001b[39mget_messages(channel_username, ids\u001b[38;5;241m=\u001b[39mchannel_post_id)\n\u001b[1;32m     13\u001b[0m \u001b[38;5;28;01mawait\u001b[39;00m client\u001b[38;5;241m.\u001b[39mstart()\n\u001b[0;32m---> 14\u001b[0m \u001b[38;5;28;01masync\u001b[39;00m \u001b[38;5;28;01mfor\u001b[39;00m message \u001b[38;5;129;01min\u001b[39;00m as_messages:\n\u001b[1;32m     15\u001b[0m     messages\u001b[38;5;241m.\u001b[39mappend(message\u001b[38;5;241m.\u001b[39mmessage)\n\u001b[1;32m     16\u001b[0m \u001b[38;5;28;01mreturn\u001b[39;00m messages\n",
      "\u001b[0;31mTypeError\u001b[0m: 'async for' requires an object with __aiter__ method, got Message"
     ]
    }
   ],
   "source": [
    "api_id = os.getenv('TELEGRAM_API_ID')\n",
    "api_hash = os.getenv('TELEGRAM_API_HASH')\n",
    "phone_number = os.getenv('TELEGRAM_PHONE_NUMBER')\n",
    "telegram_username = os.getenv('TELEGRAM_USERNAME')\n",
    "channel_username = '@zedigital'\n",
    "channel_post_id = 3020\n",
    "messages = []\n",
    "\n",
    "client = TelegramClient('my_session10', api_id, api_hash)\n",
    " \n",
    "async def main(channel_username):\n",
    "    as_messages = await client.get_messages(channel_username, ids=channel_post_id)\n",
    "    await client.start()\n",
    "    async for message in as_messages:\n",
    "        messages.append(message.message)\n",
    "    return messages\n",
    "    await client.disconnect()\n",
    "    \n",
    "    \n",
    "    \n",
    "async with client:\n",
    "    client.loop.run_until_complete(await main(channel_username))\n",
    "\n",
    "df = pd.DataFrame(messages)\n",
    "df.to_csv('parsed_messages', index=True)"
   ]
  },
  {
   "cell_type": "code",
   "execution_count": 99,
   "id": "792e7cb6-b45e-4aea-9a51-13e2ac32110a",
   "metadata": {
    "tags": []
   },
   "outputs": [
    {
     "name": "stdin",
     "output_type": "stream",
     "text": [
      "Please enter your phone (or bot token):  380961583263\n",
      "Please enter the code you received:  66173\n"
     ]
    },
    {
     "name": "stdout",
     "output_type": "stream",
     "text": [
      "Signed in successfully as Developer\n"
     ]
    }
   ],
   "source": [
    "api_id = os.getenv('TELEGRAM_API_ID')\n",
    "api_hash = os.getenv('TELEGRAM_API_HASH')\n",
    "phone_number = os.getenv('TELEGRAM_PHONE_NUMBER')\n",
    "telegram_username = os.getenv('TELEGRAM_USERNAME')\n",
    "channel_username = '@zedigital'\n",
    "messages = []\n",
    "client = TelegramClient('my_session11', api_id, api_hash)\n",
    "\n",
    "async def get_all_messages(channel_username):\n",
    "    async for message in client.iter_messages(channel_username):\n",
    "        messages.append(message.message)\n",
    "        \n",
    "async def main():\n",
    "    await client.start()\n",
    "    await get_all_messages(channel_username)\n",
    "    return messages\n",
    "\n",
    "\n",
    "\n",
    "        \n",
    "await main()\n",
    "\n",
    "df = pd.DataFrame(messages)\n",
    "df.to_csv('parsed.csv', index=True)\n",
    "\n"
   ]
  }
 ],
 "metadata": {
  "kernelspec": {
   "display_name": "Python 3 (ipykernel)",
   "language": "python",
   "name": "python3"
  },
  "language_info": {
   "codemirror_mode": {
    "name": "ipython",
    "version": 3
   },
   "file_extension": ".py",
   "mimetype": "text/x-python",
   "name": "python",
   "nbconvert_exporter": "python",
   "pygments_lexer": "ipython3",
   "version": "3.11.2"
  }
 },
 "nbformat": 4,
 "nbformat_minor": 5
}
